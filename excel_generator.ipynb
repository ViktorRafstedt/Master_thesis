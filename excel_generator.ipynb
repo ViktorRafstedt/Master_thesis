{
 "cells": [
  {
   "cell_type": "code",
   "execution_count": 1,
   "metadata": {},
   "outputs": [],
   "source": [
    "import warnings\n",
    "warnings.simplefilter(action='ignore', category=FutureWarning)\n",
    "import os\n",
    "import pandas as pd\n",
    "import fitz  #PyMuPDF\n",
    "\n",
    "def pdf_to_text(file_path):\n",
    "    with fitz.open(file_path) as pdf:\n",
    "        text = ''\n",
    "        for page in pdf:\n",
    "            text += page.get_text()\n",
    "    return text\n"
   ]
  },
  {
   "cell_type": "code",
   "execution_count": 2,
   "metadata": {},
   "outputs": [],
   "source": [
    "import os\n",
    "import pandas as pd\n",
    "\n",
    "pdf_directory_vw = #Your local directory to folder of volkswagen reports\n",
    "pdf_directory_psa = #Your local directory to folder of groupePSA reports\n",
    "pdf_directory_vc = #Your local directory to folder of volvo cars reports\n",
    "\n",
    "file_list_vw = os.listdir(pdf_directory_vw)\n",
    "file_list_psa = os.listdir(pdf_directory_psa)\n",
    "file_list_vc = os.listdir(pdf_directory_vc)\n",
    "\n",
    "data_vw_excel = []\n",
    "data_psa_excel = []\n",
    "data_vc_excel = []"
   ]
  },
  {
   "cell_type": "code",
   "execution_count": 3,
   "metadata": {},
   "outputs": [],
   "source": [
    "#Convert CSif os.path.exists('CSVFiles'):\n",
    "if os.path.exists('CSVFiles'):    \n",
    "    df_vw_excel = pd.read_csv('CSVFiles/df_vw_2.csv')\n",
    "    df_psa_excel = pd.read_csv('CSVFiles/df_psa_2.csv')\n",
    "    df_vc_excel = pd.read_csv('CSVFiles/df_vc_2.csv')\n",
    "else:\n",
    "    print(\"CSVFiles directory does not exist.\")\n",
    "\n",
    "df_vc_excel[\"text\"] = df_vc_excel[\"text\"].astype(str)\n",
    "df_vw_excel[\"text\"] = df_vw_excel[\"text\"].astype(str)\n",
    "df_psa_excel[\"text\"] = df_psa_excel[\"text\"].astype(str)"
   ]
  },
  {
   "cell_type": "code",
   "execution_count": null,
   "metadata": {},
   "outputs": [],
   "source": [
    "import os\n",
    "import nltk\n",
    "\n",
    "# Set the NLTK data path to your desired directory\n",
    "nltk_data_path = os.path.join(os.path.expanduser(\"~\"), \"nltk_data\")\n",
    "nltk.data.path.append(nltk_data_path)\n",
    "\n",
    "nltk.download(\"stopwords\")\n",
    "nltk.download(\"wordnet\")"
   ]
  },
  {
   "cell_type": "code",
   "execution_count": null,
   "metadata": {},
   "outputs": [],
   "source": [
    "import pandas as pd\n",
    "import nltk\n",
    "from nltk.corpus import stopwords\n",
    "from nltk.stem import WordNetLemmatizer\n",
    "import re\n",
    "\n",
    "lemmatizer = WordNetLemmatizer()\n",
    "\n",
    "#Download required NLTK resources\n",
    "nltk.download(\"stopwords\")\n",
    "nltk.download(\"wordnet\")\n",
    "nltk.download(\"punkt\")\n",
    "nltk.download(\"omw-1.4\")\n",
    "\n",
    "#the word which is to be analyzed\n",
    "target_word = \"development\"\n",
    "\n",
    "def preprocess_text(text):\n",
    "    if not isinstance(text, str):\n",
    "        return \"\"\n",
    "\n",
    "    #Tokenize the text\n",
    "    words = nltk.word_tokenize(text)\n",
    "\n",
    "    #Preprocess only the target word\n",
    "    lemmatizer = WordNetLemmatizer()\n",
    "    processed_words = []\n",
    "    for word in words:\n",
    "        #Remove punctuation and special characters from the word\n",
    "        clean_word = re.sub(r\"[^\\w\\s]\", \"\", word)\n",
    "        clean_word = clean_word.lower()\n",
    "        clean_word = lemmatizer.lemmatize(clean_word)\n",
    "        \n",
    "        #Perform lemmatization only on the target word\n",
    "        if clean_word == target_word:\n",
    "            processed_words.append(clean_word)\n",
    "        else:\n",
    "            processed_words.append(word)\n",
    "\n",
    "    return \" \".join(processed_words)\n",
    "\n",
    "\n",
    "#Preprocess text in each dataframe\n",
    "df_vc_excel[\"processed_text\"] = df_vc_excel[\"text\"].apply(preprocess_text)\n",
    "df_vw_excel[\"processed_text\"] = df_vw_excel[\"text\"].apply(preprocess_text)\n",
    "df_psa_excel[\"processed_text\"] = df_psa_excel[\"text\"].apply(preprocess_text)"
   ]
  },
  {
   "cell_type": "code",
   "execution_count": 6,
   "metadata": {},
   "outputs": [],
   "source": [
    "# Filter dataframes by year\n",
    "df_vc_2021 = df_vc_excel[df_vc_excel[\"year\"] == 2021]\n",
    "df_vw_2021 = df_vw_excel[df_vw_excel[\"year\"] == 2021]\n",
    "df_psa_2021 = df_psa_excel[df_psa_excel[\"year\"] == 2021]\n"
   ]
  },
  {
   "cell_type": "code",
   "execution_count": 7,
   "metadata": {},
   "outputs": [],
   "source": [
    "import re\n",
    "\n",
    "def get_target_word_context(text, target_word, context_length=50):\n",
    "    words = nltk.word_tokenize(text)\n",
    "    contexts = []\n",
    "    \n",
    "    for i, word in enumerate(words):\n",
    "        if word == target_word:\n",
    "            start = max(0, i - context_length)\n",
    "            end = min(i + context_length + 1, len(words))\n",
    "            context = words[start:end]\n",
    "            contexts.append(\" \".join(context))\n",
    "    \n",
    "    return contexts\n",
    "\n",
    "#Create new dataframes with target word context\n",
    "def create_context_df(df, target_word, context_length=50):\n",
    "    context_data = []\n",
    "    for index, row in df.iterrows():\n",
    "        contexts = get_target_word_context(row[\"processed_text\"], target_word, context_length)\n",
    "        for context in contexts:\n",
    "            context_data.append({\"index\": index, \"context\": context})\n",
    "    \n",
    "    return pd.DataFrame(context_data)\n",
    "\n",
    "#Generate context dataframes for each filtered dataframe\n",
    "df_vc_context = create_context_df(df_vc_2021, target_word)\n",
    "df_vw_context = create_context_df(df_vw_2021, target_word)\n",
    "df_psa_context = create_context_df(df_psa_2021, target_word)\n"
   ]
  },
  {
   "cell_type": "code",
   "execution_count": 8,
   "metadata": {},
   "outputs": [],
   "source": [
    "#Save dataframes to Excel files\n",
    "df_vc_context.to_excel(\"df_vc_context_development_2021.xlsx\", index=False)\n",
    "df_vw_context.to_excel(\"df_vw_context_development_2021.xlsx\", index=False)\n",
    "df_psa_context.to_excel(\"df_psa_context_development_2021.xlsx\", index=False)\n"
   ]
  }
 ],
 "metadata": {
  "kernelspec": {
   "display_name": "Python 3",
   "language": "python",
   "name": "python3"
  },
  "language_info": {
   "codemirror_mode": {
    "name": "ipython",
    "version": 3
   },
   "file_extension": ".py",
   "mimetype": "text/x-python",
   "name": "python",
   "nbconvert_exporter": "python",
   "pygments_lexer": "ipython3",
   "version": "3.9.12"
  },
  "orig_nbformat": 4
 },
 "nbformat": 4,
 "nbformat_minor": 2
}
